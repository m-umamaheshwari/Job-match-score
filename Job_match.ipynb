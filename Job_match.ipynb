{
  "cells": [
    {
      "cell_type": "markdown",
      "metadata": {
        "id": "view-in-github",
        "colab_type": "text"
      },
      "source": [
        "<a href=\"https://colab.research.google.com/github/m-umamaheshwari/Job-match-score/blob/main/Job_match.ipynb\" target=\"_parent\"><img src=\"https://colab.research.google.com/assets/colab-badge.svg\" alt=\"Open In Colab\"/></a>"
      ]
    },
    {
      "cell_type": "code",
      "source": [
        "!pip install -q transformers peft gradio pymupdf torch\n"
      ],
      "metadata": {
        "id": "8eoxx9w-JITI"
      },
      "execution_count": null,
      "outputs": []
    },
    {
      "cell_type": "code",
      "source": [
        "import gradio as gr\n",
        "from transformers import AutoModel, AutoTokenizer\n",
        "from peft import PeftModel\n",
        "import torch\n",
        "import torch.nn.functional as F\n",
        "import fitz\n",
        "\n",
        "# 🧠 Load the model + tokenizer\n",
        "base_model = AutoModel.from_pretrained(\"BAAI/bge-large-en-v1.5\")\n",
        "model = PeftModel.from_pretrained(base_model, \"shashu2325/resume-job-matcher-lora\")\n",
        "tokenizer = AutoTokenizer.from_pretrained(\"BAAI/bge-large-en-v1.5\")\n",
        "\n",
        "# 📄 Text extractor from PDF\n",
        "def extract_text(file_obj):\n",
        "    try:\n",
        "        with fitz.open(file_obj.name) as doc:\n",
        "            return \"\\n\".join([page.get_text() for page in doc])\n",
        "    except Exception as e:\n",
        "        return f\"❌ Error reading PDF: {e}\"\n",
        "\n",
        "# 💡 Calculate similarity score\n",
        "def compute_similarity(resume_text, job_text):\n",
        "    resume_inputs = tokenizer(resume_text, return_tensors=\"pt\", max_length=512, padding=\"max_length\", truncation=True)\n",
        "    job_inputs = tokenizer(job_text, return_tensors=\"pt\", max_length=512, padding=\"max_length\", truncation=True)\n",
        "\n",
        "    with torch.no_grad():\n",
        "        resume_outputs = model(**resume_inputs)\n",
        "        job_outputs = model(**job_inputs)\n",
        "\n",
        "        resume_emb = resume_outputs.last_hidden_state.mean(dim=1)\n",
        "        job_emb = job_outputs.last_hidden_state.mean(dim=1)\n",
        "\n",
        "        resume_emb = F.normalize(resume_emb, p=2, dim=1)\n",
        "        job_emb = F.normalize(job_emb, p=2, dim=1)\n",
        "\n",
        "        similarity = torch.sum(resume_emb * job_emb, dim=1)\n",
        "        return torch.sigmoid(similarity).item() * 100\n",
        "\n",
        "# 🎯 Gradio function\n",
        "def analyze_resume(resume_file, job_file):\n",
        "    resume_text = extract_text(resume_file)\n",
        "    job_text = extract_text(job_file)\n",
        "\n",
        "    if not resume_text.strip() or not job_text.strip():\n",
        "        return \"⚠️ Could not extract text from files.\"\n",
        "\n",
        "    score = compute_similarity(resume_text, job_text)\n",
        "\n",
        "    if score >= 80:\n",
        "        color = \"green\"\n",
        "        emoji = \"🟢 Strong Match\"\n",
        "    elif score >= 60:\n",
        "        color = \"orange\"\n",
        "        emoji = \"🟠 Moderate Match\"\n",
        "    else:\n",
        "        color = \"red\"\n",
        "        emoji = \"🔴 Weak Match\"\n",
        "\n",
        "    styled = f\"<h2 style='color:{color}; font-size: 26px;'>✅ Match Score: {score:.2f}/100<br>{emoji}</h2>\"\n",
        "    return styled\n",
        "\n",
        "# 🚀 Gradio interface with sections, markdown, and colors\n",
        "with gr.Blocks(theme=gr.themes.Soft()) as app:\n",
        "    gr.Markdown(\"\"\"\n",
        "        <h1 style=\"text-align:center; color:#333;\">📄 AI Resume Matcher</h1>\n",
        "        <p style=\"text-align:center;\">Upload your resume and a job description to check alignment using a fine-tuned AI model.</p>\n",
        "    \"\"\")\n",
        "\n",
        "    with gr.Row():\n",
        "        resume_input = gr.File(label=\"📄 Upload Resume (PDF)\", type=\"filepath\", file_types=[\".pdf\"])\n",
        "        jd_input = gr.File(label=\"📝 Upload Job Description (PDF)\", type=\"filepath\", file_types=[\".pdf\"])\n",
        "\n",
        "    btn = gr.Button(\"✨ Analyze Match\", variant=\"primary\")\n",
        "\n",
        "    output = gr.HTML(label=\"Result\")\n",
        "\n",
        "    btn.click(analyze_resume, inputs=[resume_input, jd_input], outputs=output)\n",
        "\n",
        "    gr.Markdown(\"<hr><center><small>Made by Uma Maheshwari 💼 | Model: BGE LoRA Fine-tuned</small></center>\")\n",
        "\n",
        "app.launch(share=True)\n"
      ],
      "metadata": {
        "colab": {
          "base_uri": "https://localhost:8080/",
          "height": 611
        },
        "id": "C2xZWydZMa6h",
        "outputId": "252d6ad3-bb5b-4e43-eb1b-3c2f5e31d162"
      },
      "execution_count": null,
      "outputs": [
        {
          "output_type": "stream",
          "name": "stdout",
          "text": [
            "Colab notebook detected. To show errors in colab notebook, set debug=True in launch()\n",
            "* Running on public URL: https://24b6ee342c2128b5b2.gradio.live\n",
            "\n",
            "This share link expires in 1 week. For free permanent hosting and GPU upgrades, run `gradio deploy` from the terminal in the working directory to deploy to Hugging Face Spaces (https://huggingface.co/spaces)\n"
          ]
        },
        {
          "output_type": "display_data",
          "data": {
            "text/plain": [
              "<IPython.core.display.HTML object>"
            ],
            "text/html": [
              "<div><iframe src=\"https://24b6ee342c2128b5b2.gradio.live\" width=\"100%\" height=\"500\" allow=\"autoplay; camera; microphone; clipboard-read; clipboard-write;\" frameborder=\"0\" allowfullscreen></iframe></div>"
            ]
          },
          "metadata": {}
        },
        {
          "output_type": "execute_result",
          "data": {
            "text/plain": []
          },
          "metadata": {},
          "execution_count": 9
        }
      ]
    },
    {
      "cell_type": "markdown",
      "metadata": {
        "id": "085cc78f"
      },
      "source": [
        "The cell `mYTEeXWMZBJt` previously contained only a URL string, which is not a valid Python command and resulted in a `SyntaxError`. If you intended to use this URL to interact with the Git repository, you should use it with the appropriate Git commands, such as `!git clone <URL>`."
      ]
    }
  ],
  "metadata": {
    "colab": {
      "provenance": [],
      "include_colab_link": true
    },
    "kernelspec": {
      "display_name": "Python 3",
      "name": "python3"
    }
  },
  "nbformat": 4,
  "nbformat_minor": 0
}